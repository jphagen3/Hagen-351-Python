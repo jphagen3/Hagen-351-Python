{
  "nbformat": 4,
  "nbformat_minor": 0,
  "metadata": {
    "colab": {
      "provenance": [],
      "authorship_tag": "ABX9TyNx6ov4KkTFjWKPewULSya8",
      "include_colab_link": true
    },
    "kernelspec": {
      "name": "python3",
      "display_name": "Python 3"
    },
    "language_info": {
      "name": "python"
    }
  },
  "cells": [
    {
      "cell_type": "markdown",
      "metadata": {
        "id": "view-in-github",
        "colab_type": "text"
      },
      "source": [
        "<a href=\"https://colab.research.google.com/github/gscott02/351-Python/blob/main/Numerical_Integration.ipynb\" target=\"_parent\"><img src=\"https://colab.research.google.com/assets/colab-badge.svg\" alt=\"Open In Colab\"/></a>"
      ]
    },
    {
      "cell_type": "markdown",
      "source": [
        "#Numerical Integration\n",
        "Often, we need to integrate a thermodynamic function. For instance, we integrate pressure with respect\n",
        "to volume when calculating work for a reversible compression. Often, we will have tabulated values for\n",
        "our function, but not an equation. How can we integrate without an equation? One strategy would be to\n",
        "fit a function to the data, and then integrate that function. A second strategy, which we will consider\n",
        "here, is numerical integration using a method such as the trapezoidal rule.\n",
        "\n",
        "![Animated image of trapezoidal rule](https://upload.wikimedia.org/wikipedia/commons/1/10/WikiTrap.gif)\n",
        "\n",
        "Aravindh Vasu, CC BY-SA 4.0 <https://creativecommons.org/licenses/by-sa/4.0>, via Wikimedia Commons"
      ],
      "metadata": {
        "id": "smxPSjVQxwna"
      }
    },
    {
      "cell_type": "markdown",
      "source": [
        "## General Approach\n",
        "Once you have your data in arrays in your code, the numerical integration can be performed with a single line of code using the SciPy package. Because managing your data and getting it into arrays is a critical part of the process, this tutorial will demonstrate the basic use of the package pandas (Python Data Analysis Library) in addition to the numerical integration.\n",
        "\n",
        "The general strategy is as follows:\n",
        "\n",
        "*   Import your data\n",
        "*   Create an array for your independent variable (x values)\n",
        "*   Create an array for your dependent variable (y values)\n",
        "*   Use the scipy.integrate function\n",
        "\n"
      ],
      "metadata": {
        "id": "kc2QHy371sW5"
      }
    },
    {
      "cell_type": "markdown",
      "source": [
        "## Packages\n",
        "\n",
        "This tutorial will use the following packages:\n",
        "\n",
        "*   pandas for working with tabular data\n",
        "*   scipy for doing numerical integration\n",
        "*   google.colab for importing files (note that this package is not required if you are running Jupyter locally on your own computer)\n",
        "\n",
        "**Make sure you run the following code block before continuing or you won't have access to the required packages.**"
      ],
      "metadata": {
        "id": "FCXQWHLS4smz"
      }
    },
    {
      "cell_type": "code",
      "source": [
        "import pandas as pd\n",
        "from google.colab import files  # Remove or comment out this line if you are not using colab!\n",
        "import scipy.integrate as integrate"
      ],
      "metadata": {
        "id": "0tFTujiP5RzS"
      },
      "execution_count": null,
      "outputs": []
    },
    {
      "cell_type": "markdown",
      "source": [
        "## Importing Files\n",
        "How you import files will be different depending on whether you are running a local installation of Jupyter or whether you are using Google colab.\n",
        "\n",
        "### Local Installation\n",
        "The easiest approach is to put the file you want to read in the same directory as your script, then skip the upload part entirely. Youw will pick up below with the read_csv part.\n",
        "\n",
        "### Google Colab\n",
        "Use the files.upload() function to upload a file. When you run the script, it will provide a button for you to upload your file. It's nice to put this in its own code block that you only run once so that you don't have to keep uploading the file over and over again (you will need to upload again when your session expires).\n",
        "\n",
        "**Important note**: if you make changes to the file and then upload it again, it will be uploaded with a new filename (just like your browser adds a number to files you download more than once). The easiest workaround is to change the filename after you make changes to the file before you upload it again.\n",
        "\n",
        "Note that [there are other approaches](https://colab.research.google.com/notebooks/io.ipynb) to getting files into Google Colab if you are interested.\n",
        "\n",
        "For this example, download the propanedata.xlsx file that you can access here: https://github.com/gscott02/351-Python/blob/main/propanedata.xlsx (click the download button in the upper right).\n",
        "\n",
        "These data were obtained from the NIST chemical WebBook. If you would like to replicate the process, go to the Webbook, page down to Models and Tools, and click on the link Thermophysical Properties of Fluid Systems. Select propane, Kelvin, bar, and then skip down to item 3. Select Isothermal and click on continue. Here we will do an isotherm at room temperature, so enter 298 K in the temperature box. Here we will compress the gas from 1 bar to 9 bar.\n",
        "\n",
        "Propane Data: Eric W. Lemmon, Ian H. Bell, Marcia L. Huber, and Mark O. McLinden, \"Thermophysical Properties of Fluid Systems\" in NIST Chemistry WebBook, NIST Standard Reference Database Number 69, Eds. P.J. Linstrom and W.G. Mallard, National Institute of Standards and Technology, Gaithersburg MD, 20899, https://doi.org/10.18434/T4D303, (retrieved October 23, 2023).\n"
      ],
      "metadata": {
        "id": "2a5kbMo46uzJ"
      }
    },
    {
      "cell_type": "code",
      "source": [
        "# Run this if you're on Google Colab.\n",
        "# Don't use this code block if you're running a local installation of Jupyter on your computer. Instead, just put the file you want in the same directory as your script.\n",
        "uploaded = files.upload()"
      ],
      "metadata": {
        "id": "HPNbrvJlH7od"
      },
      "execution_count": null,
      "outputs": []
    },
    {
      "cell_type": "markdown",
      "source": [
        "## Getting Data from the File\n",
        "\n",
        "Data often comes in two formats: csv or Excel. Pandas has convenient functions that work for either case. Use read_csv if you have a csv file and read_excel if you have an xlsx file.\n",
        "\n",
        "In this example, we have an Excel file, so we wil use read_excel. We need to put the filename in a string (you can verify the name of your file after upload by looking at the code block above; it should say \"Saving ....\" with the file name listed.\n",
        "\n",
        "Here we will store this in a variable called `data`, though we could have called it anything.\n",
        "\n",
        "We will then look at the data table to see what it looks like after being imported."
      ],
      "metadata": {
        "id": "8C1T7qGmIfc4"
      }
    },
    {
      "cell_type": "code",
      "source": [
        "data = pd.read_excel('propanedata.xlsx')\n",
        "data"
      ],
      "metadata": {
        "id": "qZ_R4vuBJhyV"
      },
      "execution_count": null,
      "outputs": []
    },
    {
      "cell_type": "markdown",
      "source": [
        "### Accessing the columns\n",
        "\n",
        "There are multiple ways to access the columns. Since we have header rows, we can access them by their names, for example: `data['Pressure (bar)']`.\n",
        "\n",
        "We could also access them by their column number. We could also get the temperature column using the iloc function, `data.iloc[rows, columns]` where we can use the colon to indicate everything for the rows and column one (remember, Python starts counting at zero instead of one, so column 1 is the second column). Notice the use of square brackets instead of parentheses: `data.iloc[:,1]`.\n",
        "\n",
        "**Special note on NaN (not a number) fields in spreadsheets** Sometimes spreadsheets have empty cells that look the same in Excel, but are interpreted as NaN values in Python. This is particularly problematic if you read in a spreadsheet where not all of the columns have the same length. You can get rid of these values when you access columns using the dropna() function. This is not necessary in this tutorial, but is useful to know. After storing the variable p below, you could drop any rows that are NaN using `p=p.dropna()` (or you could do it at the same time you store the variable `p = data.iloc[:,1].dropna()`. It's better to simply have well-formatted data (as is the case here) and not need to do this."
      ],
      "metadata": {
        "id": "Msm1YlLeKDdy"
      }
    },
    {
      "cell_type": "code",
      "source": [
        "p = data['Pressure (bar)']  # Store in a variable called p using the column header\n",
        "p = data.iloc[:,1]  # This has the same effect (we didn't need to do it both ways)\n",
        "V = data.iloc[:,2]"
      ],
      "metadata": {
        "id": "rTIRon8VKa-w"
      },
      "execution_count": null,
      "outputs": []
    },
    {
      "cell_type": "markdown",
      "source": [
        "## Do the numerical integration\n",
        "Now that we have stored our pressure and volume data in variables, we can call a numerical integration method. The trapezoidal method is a commonly used tool, so we will use it from the scipy package using `integrate.trapezoid(y,x)`. **Note the order of y and x here is different than many other functions in Python!**\n",
        "\n",
        "If we want to compute the reversible isothermal compression from 1 to 9 bar (the data in the file), we can do this using $w=-∫pdV$.\n",
        "\n",
        "**Important Note** The data in the spreadsheet have the wrong units! We need to modify the arrays to put p and V in the correct units so you get a meaningful answer in energy units (Joules)."
      ],
      "metadata": {
        "id": "IA8gMwajMyVP"
      }
    },
    {
      "cell_type": "code",
      "source": [
        "p = p*1e5 # Convert bar to Pa. This multlies every value in the p array by 10**5.\n",
        "V = V/1e3  # Convert dm**3 to m**3\n",
        "\n",
        "w = -1*integrate.trapezoid(p,V)  # Answer in J\n",
        "print(w)"
      ],
      "metadata": {
        "id": "rc8hq3jMNwH6"
      },
      "execution_count": null,
      "outputs": []
    }
  ]
}