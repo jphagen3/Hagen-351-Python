{
  "nbformat": 4,
  "nbformat_minor": 0,
  "metadata": {
    "colab": {
      "provenance": [],
      "toc_visible": true,
      "include_colab_link": true
    },
    "kernelspec": {
      "name": "python3",
      "display_name": "Python 3"
    },
    "language_info": {
      "name": "python"
    }
  },
  "cells": [
    {
      "cell_type": "markdown",
      "metadata": {
        "id": "view-in-github",
        "colab_type": "text"
      },
      "source": [
        "<a href=\"https://colab.research.google.com/github/gscott02/351-Python/blob/main/Symbolic_Math.ipynb\" target=\"_parent\"><img src=\"https://colab.research.google.com/assets/colab-badge.svg\" alt=\"Open In Colab\"/></a>"
      ]
    },
    {
      "cell_type": "markdown",
      "source": [
        "\n",
        "# Symbolic Math in Python\n",
        "Python offers the SymPy library, a powerful tool for symbolic mathematics. One can use this library to perform symbolic math functions such as taking derivatives, taking integrals, and solving for variables.  SymPy is pre-installed in Google Colab.  If you are in some other environment, SymPy may not yet be installed and you will need the code below:\n",
        "\n",
        "`pip install sympy`\n",
        "\n",
        "Before you can use SymPy, you need to import it into your script with this line of code:\n",
        "\n",
        "`from sympy import *`\n",
        "\n",
        "You can find the complete documentation for SymPy at https://docs.sympy.org/latest/index.html\n",
        "\n",
        "## Variables and Expressions\n",
        "In SymPy, we use the `symbols` function to create symbolic variables:  \n",
        "\n",
        "`x, y, z = symbols('x y z')`\n",
        "\n",
        "One can create symbolic math expressions with these symbols.  For instance, suppose that we wanted the expression $x^2+y^2+z^2$:  \n",
        "\n",
        "`expr = x**2 + y**2 + z**2`\n",
        "\n",
        "We can calculate a numerical value by substituring numbers in the variables.  For instance, we can substitute x=4, y=2, z=3 in the expression we developed above. We are storing the numerical result in a variable called \"value\"; when you write your own code you should choose a meaningful name instead.  \n",
        "`value = expr.subs({x:4, y:2, z:3})`\n",
        "\n",
        "  One can also substitute symbols with other symbols or expressions. We can run this example in the code block below.\n",
        "\n",
        "# Example 0"
      ],
      "metadata": {
        "id": "tr7k1iCWR4aw"
      }
    },
    {
      "cell_type": "code",
      "execution_count": null,
      "metadata": {
        "id": "5PZzemqfRqLH"
      },
      "outputs": [],
      "source": [
        "\n",
        "from sympy import *                 # import the entire SymPy library\n",
        "x, y, z = symbols('x y z')          # tells Python that x y and z are symbolic variables\n",
        "expr = x**2 + y**2 + z**2           # Note that Python uses ** instead of ^ for exponents\n",
        "value = expr.subs({x:4, y:2, z:3})  # Substitute numbers into the variables\n",
        "print(value)                        # Output the value of the varaible value\n",
        "display(value)                      # Output the value of the variable value. display will look nicer when you have symbolic results (see below)\n"
      ]
    },
    {
      "cell_type": "markdown",
      "source": [
        "## Derivatives and Integrals\n",
        "In the example above, we didn't really need to use a symbolic approach; it would have been simpler to just assign numerical values and then do the opperation this way:\n",
        "\n",
        "  `x=4`\n",
        "  `y=2`\n",
        "  `z=3`\n",
        "  `value=x**2+y**2+z**2`\n",
        "\n",
        "If we knew we weren't ever going to change the values of x, y, or z the code would be even simpler:\n",
        "\n",
        "  `value=4**2+2**2+3**2`\n",
        "\n",
        "So, why bother with a symbolic approach?  Often, our goal is a symbolic expression, not just a number.  A symbolic approach is needed in that case.  Three common symbolic operations are taking a derivative, taking an integral, and solving for a variable. Let's discuss derivatives and integrals first.\n",
        "\n",
        "### Derivatives\n",
        "For instance, we may need the *expression* for the isotheral compressibity of a material with a specific equation of state.  This means we need to take a derivative of the physical equation of state.\n",
        "You can calculate the derivative of an expression with respect to a variable using the diff function:\n",
        "`diff(expression name, variable)`\n",
        "If you want a higher-order derivative such as a second or third derivative, add a number.  In the example below, a third derivative is taken:\n",
        "`diff(expression name, variable, 3)`\n",
        "\n",
        "### Integrals\n",
        "To take an integral with respect to a variable, use the `integrate` method:\n",
        "`integrate(expression, variable)`\n",
        "To take a definate integral (an integral with limits) just put them in after the variable:\n",
        "`integrate(expression, (variable, lower limit, upper limit))`"
      ],
      "metadata": {
        "id": "5nQq4Bxppr9t"
      }
    },
    {
      "cell_type": "markdown",
      "source": [
        "# Example 1\n",
        "In the example below we define an expression for the pressure of an ideal gas.  We take several different partial derivatives of this expression and then integrate pressure with respect to volume."
      ],
      "metadata": {
        "id": "tWf4TkyFbCtH"
      }
    },
    {
      "cell_type": "code",
      "source": [
        "n, R, T, V, p = symbols('n R T V p')              # declare our symbolic variables\n",
        "p = n*R*T/V                                       # define an expression for pressure\n",
        "diff_p_V = diff(p, V)                             # take the partial derivative of pressure with respect to volume and store the result in a new expression\n",
        "# Note: we put the result into an expression called \"diff_p_V\".  We could choose any name as we please.\n",
        "display(diff_p_V)                                 # We could use print instead of display, but it won't look as nice\n",
        "second_diff_p_V = diff(p,V,2)                     # take the second partial derivative of pressure with respect to volume and store the result in a new expression\n",
        "display(second_diff_p_V)\n",
        "diff_p_T = diff(p, T)                             # take the partial derivative of pressure with respect to temperature and store the result in a new expression\n",
        "display(diff_p_T)\n",
        "int_p_V=integrate(p,V)                            # take the integral of pressure with respect to volume and store the result in a new expression. Note that SymPy does not put on the integration constant.\n",
        "display(int_p_V)\n",
        "V2, V1 = symbols('V1 V2')                         # declare symbolic variables for the limits of integration\n",
        "definite_int_p_V=integrate(p,(V,V1,V2))           # take the integral of pressure with respect to volume and store the result in a new expression\n",
        "display(definite_int_p_V)\n"
      ],
      "metadata": {
        "id": "XZv8n7TGWGYO"
      },
      "execution_count": null,
      "outputs": []
    },
    {
      "cell_type": "markdown",
      "source": [
        "# Solving an Equation\n",
        "If you wish to solve an equation for a variable you need to define the equality with a `Eq` method and then solve it using `solve`:  \n",
        "`equation name=Eq(left-hand-side, right-hand-side)`.  \n",
        "`solution=solve(equation name, variable)`"
      ],
      "metadata": {
        "id": "riiXUJlAhfx4"
      }
    },
    {
      "cell_type": "markdown",
      "source": [
        "# Example 2\n",
        "In this example we define the ideal gas  equation and then solve it for volume.  "
      ],
      "metadata": {
        "id": "JSV3jvRjknvi"
      }
    },
    {
      "cell_type": "code",
      "source": [
        "n, R, T, V, p, = symbols('n R T V p')\n",
        "\n",
        "Ideal = Eq(p, n*R*T/V)                # define an equation\n",
        "solution = solve(Ideal, V)            # solve the equation for V\n",
        "display(solution)                     # notice that the variable solution is a list [] with a single item in it.\n",
        "display(solution[0])                  # lists start at position zero rather than position 1. solution[0] gets the first solution of the list (there was only one solution here!)"
      ],
      "metadata": {
        "id": "qoUhUCdqXr2y"
      },
      "execution_count": null,
      "outputs": []
    },
    {
      "cell_type": "markdown",
      "source": [
        "## Important Note about Equalities\n",
        "When you create an equality using Eq(lhs, rhs) there are some nuances to the way the equals sign works (for details, see the \"Gotchas\" in the SymPy documentation). In example 2a below, you will see that trying to take the derivative of the equation stored in the equality \"Ideal\" from example 2 will not work. You can only take the derivative of the right hand side of the equality. We can access the right hand side of the equality we called Ideal using the notation `Ideal.rhs`"
      ],
      "metadata": {
        "id": "QIzQtNdTQ3D_"
      }
    },
    {
      "cell_type": "code",
      "source": [
        "display(Ideal)              # Remind ourselves what the equation looks like\n",
        "display(diff(Ideal,V))      # This doesn't work! Notice that the output is the same as the original equality and is not the derivative.\n",
        "display(diff(Ideal.rhs,V))  # This works! Ideal.rhs gives us the right-hand-side of the equality only."
      ],
      "metadata": {
        "id": "BGQh6uFtRhwE"
      },
      "execution_count": null,
      "outputs": []
    },
    {
      "cell_type": "markdown",
      "source": [
        "# Symbolic Substitution\n",
        "To substitute symbolic expressions into other expressions,  we can use the `subs` method with an expression instead of numbers.  Suppose that we want to replace x with y squared in an expression:  \n",
        "\n",
        "`new expression name = old expression name.subs(x, y**2)`\n",
        "\n",
        "You can also use a Python dictionary to be able to substitue multiple variables by name (this was done above in Example 0). This is done with the following syntax where x would be replaced by y^2 and z would be replaced by 2k:\n",
        "\n",
        "`new expression name = old expression name.subs({x: y**2, z: 2k})`\n"
      ],
      "metadata": {
        "id": "Oigcv1-qomZg"
      }
    },
    {
      "cell_type": "markdown",
      "source": [
        "\n",
        "# Example 3\n",
        "Suppose that we have written the expression for the van der Waals equation in terms of molar volume, `Vm` and that we now want to put it in terms of volume instead.  We can replace `Vm` with `V/n` in our equation using  `subs`.\n"
      ],
      "metadata": {
        "id": "p9epIN4ylgOH"
      }
    },
    {
      "cell_type": "code",
      "source": [
        "Vm, a, b, g =symbols('Vm a b g')             # Note that we don't have to declare the other symbols since we did so earlier when we ran the cells above.\n",
        "VDW1=Eq(p,R*T/(Vm-b)-a/Vm**2)\n",
        "display(VDW1)\n",
        "VDW2=VDW1.subs({Vm: V/n})\n",
        "display(VDW2)\n"
      ],
      "metadata": {
        "id": "0jE4EHZsgSsY"
      },
      "execution_count": null,
      "outputs": []
    },
    {
      "cell_type": "markdown",
      "source": [
        "# Solving a System of Equations\n",
        "\n",
        "You can use the solve function and pass a list of equations and a list of variables for which to solve. See the example below.\n",
        "\n",
        "If you want more details, see the SymPy documentation: https://docs.sympy.org/latest/guides/solving/solve-system-of-equations-algebraically.html\n",
        "\n",
        "#Example 4\n",
        "\n",
        "Solve the system of equations $x^2 + y = 2z$ and $y=-4z$ for x and y."
      ],
      "metadata": {
        "id": "GvtcazPftTbF"
      }
    },
    {
      "cell_type": "code",
      "source": [
        "x, y, z = symbols('x y z')\n",
        "eq1 = Eq(x**2,y-2*z)            # We could use the equality here\n",
        "eq2 = y+4*z                     # Or we can subtract the two sides; if there's no equality, SymPy assumes it's set equal to zero. Notice that y=-4*z and y+4z=0 are the same equation.\n",
        "soln = solve([eq1, eq2], x, y, dict=True) #Solve the system of equations [eq1,eq2] for the variables x, y. Setting dict=True creates a Python dictionary for the solution.\n",
        "display(soln)                   # Notice that there are two solutions to this equation, so they're in a list [{solution 1}, {solution 2}]. Sometimes you have to decide which solution makes physical sense.\n",
        "display(soln[0])                # Here we'll look at just the first solution in the list.\n",
        "display(soln[0][x])             # This lets us look at just the value called 'x' in the dictionary. Notice it pretty prints when we're not inside the dictionary.\n",
        "eq2.subs(soln[0])               # If we wanted to substitute our solution back into equation 2, this is how we would do it. Unsurprisingly, this evaluates to zero (the one in your practice exercise later won't!)"
      ],
      "metadata": {
        "id": "JZ09Zbe3uLgO"
      },
      "execution_count": null,
      "outputs": []
    },
    {
      "cell_type": "markdown",
      "source": [
        "# Practice 1\n",
        "\n",
        "Derive an expression for $\\left(\\frac{\\partial p}{\\partial V_m}\\right)_T$ for a van der Waals fluid by hand. Check your expression using a Python script.  "
      ],
      "metadata": {
        "id": "7SxsfGjUvrkk"
      }
    },
    {
      "cell_type": "code",
      "source": [],
      "metadata": {
        "id": "5sz9EfjCz4N7"
      },
      "execution_count": null,
      "outputs": []
    },
    {
      "cell_type": "markdown",
      "source": [
        "# Practice 2\n",
        "Derive an expression for $\\left(\\frac{\\partial p}{\\partial T}\\right)_{V_m}$ for a van der Waals fluid. Check your expression using a Python script.  "
      ],
      "metadata": {
        "id": "NqxyjgTG5faT"
      }
    },
    {
      "cell_type": "code",
      "source": [],
      "metadata": {
        "id": "WGtvt3bJ5qEH"
      },
      "execution_count": null,
      "outputs": []
    },
    {
      "cell_type": "markdown",
      "source": [
        "# Practice 3\n",
        "An equation of state that can be used for condensed phases is shown below:  \n",
        "$V=V_0e^{T\\alpha _p +p \\kappa _T}$   \n",
        "Use Python to solve this equation for the pressure.\n",
        "\n",
        "Some helpful notes:\n",
        "\n",
        "To get $e^x$ in Python, you use the exp function, as in `exp(x)`\n",
        "\n",
        "Note that SymPy will pretty print greek letters for you if you define the symbols correctly. See here for examples: https://www.sympy.org/scipy-2017-codegen-tutorial/notebooks/01-intro-sympy.html\n",
        "\n",
        "The solution to this problem involves a natural logarithm. What do you notice about how Python writes the natural log (it's not `ln`). Note also that if you need a base 10 logarithm, you need to import another package to be able to use `log10` in Python."
      ],
      "metadata": {
        "id": "0T0zpJ-j55vL"
      }
    },
    {
      "cell_type": "code",
      "source": [],
      "metadata": {
        "id": "oQsrloUq6FEi"
      },
      "execution_count": null,
      "outputs": []
    },
    {
      "cell_type": "markdown",
      "source": [
        "# Practice 4\n",
        "\n",
        "Find the critical values ($P_c$, $T_c$, $V_c$) for the van der Waals equation. The compression isotherm at the critical temperature will have an inflection point in the pressure at the critical volume. You can find $P_c$ and $T_c$ by setting both the first and second derivatives equal to zero and solving the system of equations, i.e.,\n",
        "\n",
        "$\\left(\\frac{\\partial p}{\\partial V_m}\\right)_T$ = 0\n",
        "\n",
        "$\\left(\\frac{\\partial ^2p}{\\partial V_m^2}\\right)_T$ = 0.\n",
        "\n",
        "Remember that in SymPy, if you just use one side of the equation, SymPy assumes you have set it equal to zero. Start by computing the derivatives and store them in variables (remember, you can't take the derivative of an Eq() equality in Sympy). Then solve the system of equations stored in those variables for $V_m$ and $T$ to find those critical parameters.\n",
        "\n",
        "Once you know the values of $V_m$ and $T$ at the critical point, you can subsitute them back into the van der Waals equation to find the critical pressure.\n",
        "\n",
        "You can check your solution using your text."
      ],
      "metadata": {
        "id": "xUeG_aD2i10i"
      }
    },
    {
      "cell_type": "code",
      "source": [],
      "metadata": {
        "id": "EJHQHtYfjn8V"
      },
      "execution_count": null,
      "outputs": []
    }
  ]
}
